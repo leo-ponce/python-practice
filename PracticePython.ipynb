{
  "nbformat": 4,
  "nbformat_minor": 0,
  "metadata": {
    "colab": {
      "provenance": [],
      "authorship_tag": "ABX9TyNKopOLFSzw95JLeRhmDf4e",
      "include_colab_link": true
    },
    "kernelspec": {
      "name": "python3",
      "display_name": "Python 3"
    },
    "language_info": {
      "name": "python"
    }
  },
  "cells": [
    {
      "cell_type": "markdown",
      "metadata": {
        "id": "view-in-github",
        "colab_type": "text"
      },
      "source": [
        "<a href=\"https://colab.research.google.com/github/leo-ponce/python-practice/blob/main/PracticePython.ipynb\" target=\"_parent\"><img src=\"https://colab.research.google.com/assets/colab-badge.svg\" alt=\"Open In Colab\"/></a>"
      ]
    },
    {
      "cell_type": "markdown",
      "source": [],
      "metadata": {
        "id": "-MV3BdTc1n-H"
      }
    },
    {
      "cell_type": "code",
      "execution_count": null,
      "metadata": {
        "id": "6JxEY5gc1Y2M"
      },
      "outputs": [],
      "source": [
        "2235. Add Two Integers\n",
        "\n",
        "Given two integers num1 and num2, return the sum of the two integers.\n",
        "\n",
        " \n",
        "\n",
        "Example 1:\n",
        "\n",
        "Input: num1 = 12, num2 = 5\n",
        "Output: 17\n",
        "Explanation: num1 is 12, num2 is 5, and their sum is 12 + 5 = 17, so 17 is returned.\n",
        "\n",
        "Example 2:\n",
        "\n",
        "Input: num1 = -10, num2 = 4\n",
        "Output: -6\n",
        "Explanation: num1 + num2 = -6, so -6 is returned.\n",
        "\n",
        " \n",
        "\n",
        "Constraints:\n",
        "\n",
        "    -100 <= num1, num2 <= 100\n"
      ]
    },
    {
      "cell_type": "code",
      "source": [
        "# solution\n",
        "class Solution:\n",
        "    def sum(self, num1: int, num2: int) -> int:\n",
        "        return num1 + num2"
      ],
      "metadata": {
        "id": "DHkXmAKe1mZM"
      },
      "execution_count": null,
      "outputs": []
    },
    {
      "cell_type": "markdown",
      "source": [
        "What is a python class =  like an object constuctor, or a \"blueprint\" for creating objects. \n",
        "\n",
        "Almost everything is Python is an object and it is considered an **object oriented programming language**.\n",
        "\n",
        "Objects in python have properties and methods.\n",
        "\n",
        "\n",
        "\n"
      ],
      "metadata": {
        "id": "Bw5rGcoUA660"
      }
    },
    {
      "cell_type": "code",
      "source": [
        "# we create a class named MyClass\n",
        "class MyClass:\n",
        "    x = 5\n",
        "\n",
        "print(MyClass)\n"
      ],
      "metadata": {
        "colab": {
          "base_uri": "https://localhost:8080/"
        },
        "id": "tdlapNeCC0bf",
        "outputId": "400fc9c4-1247-4be3-c148-eefc1e1af446"
      },
      "execution_count": null,
      "outputs": [
        {
          "output_type": "stream",
          "name": "stdout",
          "text": [
            "<class '__main__.MyClass'>\n"
          ]
        }
      ]
    },
    {
      "cell_type": "code",
      "source": [
        "# now we create an object by using the class named MyClass:\n",
        "# we create an object named p1\n",
        "\n",
        "class MyClass:\n",
        "    x= 5\n",
        "\n",
        "p1 = MyClass()\n",
        "print(p1.x)\n",
        "\n"
      ],
      "metadata": {
        "colab": {
          "base_uri": "https://localhost:8080/"
        },
        "id": "k1i0VlRRDr4B",
        "outputId": "1e1c0fa9-9603-43b4-94f0-e5a852c542a0"
      },
      "execution_count": null,
      "outputs": [
        {
          "output_type": "stream",
          "name": "stdout",
          "text": [
            "5\n"
          ]
        }
      ]
    },
    {
      "cell_type": "code",
      "source": [],
      "metadata": {
        "id": "YmVUs18fEYvz"
      },
      "execution_count": null,
      "outputs": []
    },
    {
      "cell_type": "markdown",
      "source": [
        "https://leetcode.com/problems/add-two-integers/description/\n",
        "\n",
        "https://towardsdatascience.com/enhance-your-python-project-code-with-classes-5a19d0e9f841\n",
        "\n",
        "https://www.geeksforgeeks.org/self-in-python-class/\n",
        "\n",
        "https://realpython.com/python-return-statement/\n",
        "\n",
        "\n",
        "\n",
        "\n",
        "\n",
        "\n",
        "\n",
        "\n",
        "\n"
      ],
      "metadata": {
        "id": "X6sU_o7a1mk4"
      }
    },
    {
      "cell_type": "markdown",
      "source": [],
      "metadata": {
        "id": "CrFG_U7O6glR"
      }
    },
    {
      "cell_type": "markdown",
      "source": [
        "Next: Create a curriculum https://leetcode.com/discuss/general-discussion/623011/A-guide-for-dummies-(like-me)"
      ],
      "metadata": {
        "id": "GZqA7M_f1mwL"
      }
    },
    {
      "cell_type": "markdown",
      "source": [],
      "metadata": {
        "id": "z6CYx9qA1m0e"
      }
    },
    {
      "cell_type": "markdown",
      "source": [],
      "metadata": {
        "id": "WX4rVtG31m36"
      }
    },
    {
      "cell_type": "markdown",
      "source": [],
      "metadata": {
        "id": "2aBjOqOL1m7J"
      }
    },
    {
      "cell_type": "markdown",
      "source": [],
      "metadata": {
        "id": "uFV6ndEQ1m-x"
      }
    },
    {
      "cell_type": "markdown",
      "source": [],
      "metadata": {
        "id": "FQWKwOop1nBU"
      }
    },
    {
      "cell_type": "markdown",
      "source": [],
      "metadata": {
        "id": "LIrpp5Jo1nD3"
      }
    },
    {
      "cell_type": "markdown",
      "source": [],
      "metadata": {
        "id": "4QDNB9TB1nHX"
      }
    }
  ]
}