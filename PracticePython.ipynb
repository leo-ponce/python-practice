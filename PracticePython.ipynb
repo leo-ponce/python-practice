{
  "nbformat": 4,
  "nbformat_minor": 0,
  "metadata": {
    "colab": {
      "provenance": [],
      "authorship_tag": "ABX9TyN+buNfYXE07wbZw/uClwcZ",
      "include_colab_link": true
    },
    "kernelspec": {
      "name": "python3",
      "display_name": "Python 3"
    },
    "language_info": {
      "name": "python"
    }
  },
  "cells": [
    {
      "cell_type": "markdown",
      "metadata": {
        "id": "view-in-github",
        "colab_type": "text"
      },
      "source": [
        "<a href=\"https://colab.research.google.com/github/leo-ponce/python-practice/blob/main/PracticePython.ipynb\" target=\"_parent\"><img src=\"https://colab.research.google.com/assets/colab-badge.svg\" alt=\"Open In Colab\"/></a>"
      ]
    },
    {
      "cell_type": "markdown",
      "source": [],
      "metadata": {
        "id": "-MV3BdTc1n-H"
      }
    },
    {
      "cell_type": "code",
      "execution_count": null,
      "metadata": {
        "id": "6JxEY5gc1Y2M"
      },
      "outputs": [],
      "source": [
        "2235. Add Two Integers\n",
        "\n",
        "Given two integers num1 and num2, return the sum of the two integers.\n",
        "\n",
        " \n",
        "\n",
        "Example 1:\n",
        "\n",
        "Input: num1 = 12, num2 = 5\n",
        "Output: 17\n",
        "Explanation: num1 is 12, num2 is 5, and their sum is 12 + 5 = 17, so 17 is returned.\n",
        "\n",
        "Example 2:\n",
        "\n",
        "Input: num1 = -10, num2 = 4\n",
        "Output: -6\n",
        "Explanation: num1 + num2 = -6, so -6 is returned.\n",
        "\n",
        " \n",
        "\n",
        "Constraints:\n",
        "\n",
        "    -100 <= num1, num2 <= 100\n"
      ]
    },
    {
      "cell_type": "code",
      "source": [],
      "metadata": {
        "id": "2Mkd9fD-Zyx5"
      },
      "execution_count": null,
      "outputs": []
    },
    {
      "cell_type": "code",
      "source": [
        "# solution\n",
        "class Solution:\n",
        "    def sum(self, num1: int, num2: int) -> int:\n",
        "        return num1 + num2"
      ],
      "metadata": {
        "id": "DHkXmAKe1mZM"
      },
      "execution_count": null,
      "outputs": []
    },
    {
      "cell_type": "markdown",
      "source": [
        "What is a python class =  like an object constuctor, or a \"blueprint\" for creating objects. \n",
        "\n",
        "Almost everything is Python is an object and it is considered an **object oriented programming language**.\n",
        "\n",
        "Objects in python have properties and methods.\n",
        "\n",
        "\n",
        "\n"
      ],
      "metadata": {
        "id": "Bw5rGcoUA660"
      }
    },
    {
      "cell_type": "code",
      "source": [
        "# we create a class named MyClass\n",
        "class MyClass:\n",
        "    x = 5\n",
        "\n",
        "print(MyClass)\n"
      ],
      "metadata": {
        "colab": {
          "base_uri": "https://localhost:8080/"
        },
        "id": "tdlapNeCC0bf",
        "outputId": "400fc9c4-1247-4be3-c148-eefc1e1af446"
      },
      "execution_count": null,
      "outputs": [
        {
          "output_type": "stream",
          "name": "stdout",
          "text": [
            "<class '__main__.MyClass'>\n"
          ]
        }
      ]
    },
    {
      "cell_type": "code",
      "source": [
        "# now we create an object by using the class named MyClass:\n",
        "# we create an object named p1\n",
        "\n",
        "class MyClass:\n",
        "    x= 5\n",
        "\n",
        "p1 = MyClass()\n",
        "print(p1.x)\n",
        "\n"
      ],
      "metadata": {
        "colab": {
          "base_uri": "https://localhost:8080/"
        },
        "id": "k1i0VlRRDr4B",
        "outputId": "1e1c0fa9-9603-43b4-94f0-e5a852c542a0"
      },
      "execution_count": null,
      "outputs": [
        {
          "output_type": "stream",
          "name": "stdout",
          "text": [
            "5\n"
          ]
        }
      ]
    },
    {
      "cell_type": "code",
      "source": [
        "#server\n",
        "#command line\n",
        "#syntax\n",
        "\n",
        "#python syntax can be executed by writing directly in the Command Line:\n",
        ">>> print(\"Hello, World!\")\n",
        "Hello, World! \n"
      ],
      "metadata": {
        "id": "YmVUs18fEYvz",
        "colab": {
          "base_uri": "https://localhost:8080/",
          "height": 131
        },
        "outputId": "2e5178d4-f259-48b7-847b-83d823d5e9e6"
      },
      "execution_count": null,
      "outputs": [
        {
          "output_type": "error",
          "ename": "SyntaxError",
          "evalue": "ignored",
          "traceback": [
            "\u001b[0;36m  File \u001b[0;32m\"<ipython-input-1-75e17e657670>\"\u001b[0;36m, line \u001b[0;32m6\u001b[0m\n\u001b[0;31m    >>> print(\"Hello, World!\")\u001b[0m\n\u001b[0m    ^\u001b[0m\n\u001b[0;31mSyntaxError\u001b[0m\u001b[0;31m:\u001b[0m invalid syntax\n"
          ]
        }
      ]
    },
    {
      "cell_type": "code",
      "source": [
        "C:\\Users\\Your Name>python myfile.py \n",
        "\n"
      ],
      "metadata": {
        "id": "VY9CR1rMafVS"
      },
      "execution_count": null,
      "outputs": []
    },
    {
      "cell_type": "code",
      "source": [
        "if 5 > 2:\n",
        "  print(\"Five is greater than two!\")"
      ],
      "metadata": {
        "colab": {
          "base_uri": "https://localhost:8080/"
        },
        "id": "uRTntzQmagiR",
        "outputId": "6351e2fd-4c53-4d5f-ce78-6e2cc09d309a"
      },
      "execution_count": null,
      "outputs": [
        {
          "output_type": "stream",
          "name": "stdout",
          "text": [
            "Five is greater than two!\n"
          ]
        }
      ]
    },
    {
      "cell_type": "code",
      "source": [
        "#Indentation: The number of spaces is up to you as a programmer, the most common use is four, but it has to be at least one. Here, though the indentation is still inconsistent, the code still executes.\n",
        "\n",
        "if 5 > 3:\n",
        " print(\"Five is greater than three!\") \n",
        "if 5 > 2:\n",
        "        print(\"Five is greater than two!\") "
      ],
      "metadata": {
        "colab": {
          "base_uri": "https://localhost:8080/"
        },
        "id": "ldm_YfnCazSc",
        "outputId": "bc1cdf9c-46ad-43d6-dd89-47c4de754f00"
      },
      "execution_count": null,
      "outputs": [
        {
          "output_type": "stream",
          "name": "stdout",
          "text": [
            "Five is greater than three!\n",
            "Five is greater than two!\n"
          ]
        }
      ]
    },
    {
      "cell_type": "code",
      "source": [
        "#you have to use the same number of spaces in the same block of code, otherwise Python will give you an error:\n",
        "#task: manipulate for inconsistent code block\n",
        "if 5 > 20:\n",
        " print(\"Five is greater than two!\") \n",
        "   print(\"Five is greater than two!\")\n"
      ],
      "metadata": {
        "colab": {
          "base_uri": "https://localhost:8080/",
          "height": 131
        },
        "id": "Dwe-mAbEbLx1",
        "outputId": "0b269e35-3aef-4459-e0b1-bdd59bd0c364"
      },
      "execution_count": null,
      "outputs": [
        {
          "output_type": "error",
          "ename": "IndentationError",
          "evalue": "ignored",
          "traceback": [
            "\u001b[0;36m  File \u001b[0;32m\"<ipython-input-2-e857b6de3bf0>\"\u001b[0;36m, line \u001b[0;32m5\u001b[0m\n\u001b[0;31m    print(\"Five is greater than two!\")\u001b[0m\n\u001b[0m    ^\u001b[0m\n\u001b[0;31mIndentationError\u001b[0m\u001b[0;31m:\u001b[0m unexpected indent\n"
          ]
        }
      ]
    },
    {
      "cell_type": "code",
      "source": [
        " # comments can also be written at the end of a line\n",
        " print(\"Hello, World!\") #This is a comment "
      ],
      "metadata": {
        "id": "RUoMiSdlZ0Le"
      },
      "execution_count": null,
      "outputs": []
    },
    {
      "cell_type": "markdown",
      "source": [
        "A Pythonic Card Deck\n",
        "Example 1-1. A deck as a sequence of playing cards\n",
        "\n",
        "From: Fluent Python, 2nd Edition"
      ],
      "metadata": {
        "id": "GiWqfxiDr7-D"
      }
    },
    {
      "cell_type": "markdown",
      "source": [],
      "metadata": {
        "id": "-mfb0t7or-9o"
      }
    },
    {
      "cell_type": "code",
      "source": [
        "#Recall ace =4, then value of relative suits\n",
        "\n",
        "import collections\n",
        "\n",
        "Card = collections.namedtuple('Card', ['rank', 'suit'])\n",
        "\n",
        "class FrenchDeck:\n",
        "    ranks = [str(n) for n in range(2, 11)] + list('JQKA')\n",
        "    suits = 'spades diamonds clubs hearts'.split()\n",
        "\n",
        "    def __init__(self):\n",
        "        self._cards = [Card(rank, suit) for suit in self.suits for rank in self.ranks]\n",
        "\n",
        "    def __len__(self):\n",
        "        return len(self._cards)\n",
        "\n",
        "    def __getitem__(self, position):\n",
        "        return self._cards[position]\n",
        "\n"
      ],
      "metadata": {
        "id": "CYwzve1frlw_"
      },
      "execution_count": null,
      "outputs": []
    },
    {
      "cell_type": "markdown",
      "source": [
        "https://leetcode.com/problems/add-two-integers/description/\n",
        "\n",
        "https://towardsdatascience.com/enhance-your-python-project-code-with-classes-5a19d0e9f841\n",
        "\n",
        "https://www.geeksforgeeks.org/self-in-python-class/\n",
        "\n",
        "https://realpython.com/python-return-statement/\n",
        "\n",
        "\n",
        "\n",
        "\n",
        "\n",
        "\n",
        "\n",
        "\n",
        "\n"
      ],
      "metadata": {
        "id": "X6sU_o7a1mk4"
      }
    },
    {
      "cell_type": "code",
      "source": [
        "#In Python, variables are created when you assign a value to it.\n",
        "x = 5\n",
        "y = \"Hello, World!\"\n",
        "print(x)\n",
        "print(y)"
      ],
      "metadata": {
        "colab": {
          "base_uri": "https://localhost:8080/"
        },
        "id": "EqXBPu-iegco",
        "outputId": "a7017890-56d1-4e30-b5f3-8623b81c8e85"
      },
      "execution_count": 3,
      "outputs": [
        {
          "output_type": "stream",
          "name": "stdout",
          "text": [
            "5\n",
            "Hello, World!\n"
          ]
        }
      ]
    },
    {
      "cell_type": "markdown",
      "source": [],
      "metadata": {
        "id": "CrFG_U7O6glR"
      }
    },
    {
      "cell_type": "markdown",
      "source": [
        "Next: Create a curriculum https://leetcode.com/discuss/general-discussion/623011/A-guide-for-dummies-(like-me)"
      ],
      "metadata": {
        "id": "GZqA7M_f1mwL"
      }
    },
    {
      "cell_type": "markdown",
      "source": [],
      "metadata": {
        "id": "z6CYx9qA1m0e"
      }
    },
    {
      "cell_type": "markdown",
      "source": [],
      "metadata": {
        "id": "WX4rVtG31m36"
      }
    },
    {
      "cell_type": "markdown",
      "source": [],
      "metadata": {
        "id": "2aBjOqOL1m7J"
      }
    },
    {
      "cell_type": "markdown",
      "source": [],
      "metadata": {
        "id": "uFV6ndEQ1m-x"
      }
    },
    {
      "cell_type": "markdown",
      "source": [],
      "metadata": {
        "id": "FQWKwOop1nBU"
      }
    },
    {
      "cell_type": "markdown",
      "source": [],
      "metadata": {
        "id": "LIrpp5Jo1nD3"
      }
    },
    {
      "cell_type": "markdown",
      "source": [],
      "metadata": {
        "id": "4QDNB9TB1nHX"
      }
    }
  ]
}