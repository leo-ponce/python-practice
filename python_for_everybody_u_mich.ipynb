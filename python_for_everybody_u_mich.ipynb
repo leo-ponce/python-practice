{
  "nbformat": 4,
  "nbformat_minor": 0,
  "metadata": {
    "colab": {
      "provenance": [],
      "authorship_tag": "ABX9TyMsNOtUTwAWIsl/QI5ypXlw",
      "include_colab_link": true
    },
    "kernelspec": {
      "name": "python3",
      "display_name": "Python 3"
    },
    "language_info": {
      "name": "python"
    }
  },
  "cells": [
    {
      "cell_type": "markdown",
      "metadata": {
        "id": "view-in-github",
        "colab_type": "text"
      },
      "source": [
        "<a href=\"https://colab.research.google.com/github/leo-ponce/python-practice/blob/main/python_for_everybody_u_mich.ipynb\" target=\"_parent\"><img src=\"https://colab.research.google.com/assets/colab-badge.svg\" alt=\"Open In Colab\"/></a>"
      ]
    },
    {
      "cell_type": "markdown",
      "source": [
        "##Python For Everyone, UMich"
      ],
      "metadata": {
        "id": "MMynUDu1oRj8"
      }
    },
    {
      "cell_type": "code",
      "source": [],
      "metadata": {
        "id": "ZWFwOyl46LmU"
      },
      "execution_count": null,
      "outputs": []
    },
    {
      "cell_type": "code",
      "source": [],
      "metadata": {
        "id": "ATBINKzwUhc1"
      },
      "execution_count": null,
      "outputs": []
    },
    {
      "cell_type": "markdown",
      "source": [
        "Next steps - \n",
        "\n",
        "<p>review terms</p>\n",
        "<p>list out terms</p>\n",
        "<p>make flashcards</p>\n",
        "<p>download python on system, navigating windows</p>\n",
        "<p>begin course and begin programming</p>\n",
        "\n",
        "#Why program\n",
        "\n",
        "TEST QS\n",
        "\n",
        "1) Which 3 things do we need to take care in the app the stakeholder doesnt need to know about?\n",
        "\n",
        "2) Compare/contrast Secondary and main memory.\n",
        "\n",
        "3) Which memory also known as RAM?\n",
        "\n",
        "4) What are examples of peripherals and secondary devices?\n",
        "\n",
        "5) How does a CDN work?\n",
        "\n",
        "NOTES\n",
        "Computers are built to bend to our will. We need to speak their language, as they cannot yet speak our language very well. Shifting from the *user perspective* to the *programmer perspective* can help us better develop programs. We can create things (e.g. mobile apps, AI, navigational programs) and build tools to change how the computer sees the world.\n",
        "\n",
        "Our why - produce something for others to use, perform work \n",
        "  e.g. clean up survey data \n",
        "  e.g. fix performance problems for a commercial software\n",
        "\n",
        "As a programmer, we think from inside the computer vs. at the person level. The end user (i.e. stackholders/actors) are our masters - who we wish to appease. They often pay us money when they are pleased. Notably, *the data*, *information* and *networks* are our  problem to solve on their behalf. (Question 1 answer)  \n",
        "\n",
        "##What is code, software, program\n",
        "\n",
        "Programming = sequence of instructions to make something happen for end user, sometimes u r end user\n",
        "\n",
        "   e.g. Macarena is a program for humans vs. computers\n",
        "\n",
        "##Hardware Architecture\n",
        "\n",
        "Be able to use words:\n",
        "\n",
        "computer network\n",
        "protocols\n",
        "secondary storage\n",
        "random access memory\n",
        "peripherals\n",
        "input devices\n",
        "raspberry pi\n",
        "\n",
        "computer network = a set of computers sharing resources located on or provided by network nodes. The computers use common communication protocols over digital interconnections to communicate with each other. These interconnections are made up of telecommunication network technologies, based on physically wired, optical, and wireless radio-frequency methods that may be arranged in a variety of network topologies. \n",
        "protocols\n",
        "secondary storage\n",
        "random access memory\n",
        "peripherals\n",
        "input devices\n",
        "raspberry pi = single board computer, architecture stays same but no of components drop as it gets smaller and smaller\n",
        "\n",
        "software = is closest thing a computer has to a brain as may be the\n",
        "microprocessing unit AKA CPU\n",
        "\n",
        "CPU = asks 3BX/s \"What do u want done next?\"; 3B operations / s; runs programs, very fast\n",
        "\n",
        "input devices = keyboard, mouse, touch screen\n",
        "\n",
        "output devices = screen speakers, dvd burner\n",
        "\n",
        "main memory = fast small temp storage, lost on reboot AKA RAM\n",
        "\n",
        "secondary memory = slower large permanent storage, lasts until deleted, disk drive/memory stick; \"memory thar lasts\"\n",
        "\n",
        "Main memory = where program u wrote is stored (or program u purchased), really fast\n",
        "\n",
        "motherboard = connects all components together \n",
        "\n",
        "hardrive = secondary storage, permanent, when power is off it stores it\n",
        "\n",
        "capacitors = a device that stores electrical energy in an electric field. It is a passive electronic component with two terminals.  It is a component designed to add capacitance to a circuit\n",
        "\n",
        "resistors =  a passive two-terminal electrical component that implements electrical resistance as a circuit element. In electronic circuits, resistors are used to reduce current flow, adjust signal levels, to divide voltages, bias active elements, and terminate transmission lines, among other uses. High-power resistors that can dissipate many watts of electrical power as heat may be used as part of motor controls, in power distribution systems, or as test loads for generators.\n",
        "\n",
        "transistors =  a semiconductor device used to amplify or switch electrical signals and power. The transistor is one of the basic building blocks of modern electronics. It is composed of semiconductor material, usually with at least three terminals for connection to an electronic circuit. \n",
        "\n",
        "peripherals = e.g, keyboard\n",
        "\n",
        "CPU asks instructions, main memory holds them\n",
        "\n",
        "##Python to Machine language\n",
        "\n",
        "Python translates into machine language  (1's and 0s). Python far easier to learn than machine language.\n",
        "\n",
        "\n",
        "##Python as a language\n",
        "\n",
        "The computer loves you it is just not good at showing how it loves you. \n",
        "\n",
        "Syntax errors = python admitting it doesnt understand what ur saying\n",
        "\n",
        "\n"
      ],
      "metadata": {
        "id": "s_t0HhEqo6PB"
      }
    },
    {
      "cell_type": "code",
      "source": [
        "#program to practice printing\n",
        "print(1)\n",
        "x = 2\n",
        "print(x)"
      ],
      "metadata": {
        "colab": {
          "base_uri": "https://localhost:8080/"
        },
        "id": "vkCVz9qPEyPX",
        "outputId": "2f3b22be-c43d-404f-fd05-accc293d6662"
      },
      "execution_count": null,
      "outputs": [
        {
          "output_type": "stream",
          "name": "stdout",
          "text": [
            "1\n",
            "2\n"
          ]
        }
      ]
    },
    {
      "cell_type": "code",
      "source": [
        "print(7)\n",
        "x = 5\n",
        "print (x)\n"
      ],
      "metadata": {
        "colab": {
          "base_uri": "https://localhost:8080/"
        },
        "id": "5wgIBmF0NC6_",
        "outputId": "b10c2c2f-1b24-4bd2-a564-f9f52ad05846"
      },
      "execution_count": null,
      "outputs": [
        {
          "output_type": "stream",
          "name": "stdout",
          "text": [
            "7\n",
            "5\n"
          ]
        }
      ]
    },
    {
      "cell_type": "code",
      "source": [
        "#word counting program\n",
        "name = raw_input('Enter file:')\n",
        "handle = open(name)\n",
        "\n",
        "count = dict()\n",
        "for line in handle:\n",
        "    words = line.split()\n",
        "    for word in words:\n",
        "        count[word] = counts.get(word,0) + 1\n",
        "\n",
        "bigcount = None\n",
        "bigword = None\n",
        "for word,count in count.items():\n",
        "    if bigcount is None or count > bigcount:\n",
        "        bigword = word\n",
        "        bigcount = count\n",
        "\n",
        "print(bigword, bigcount)\n",
        "\n"
      ],
      "metadata": {
        "colab": {
          "base_uri": "https://localhost:8080/",
          "height": 239
        },
        "id": "rOzw8FUN1yr8",
        "outputId": "0bf32ee8-9343-4629-9fdf-68d9e33f0938"
      },
      "execution_count": null,
      "outputs": [
        {
          "output_type": "error",
          "ename": "NameError",
          "evalue": "ignored",
          "traceback": [
            "\u001b[0;31m---------------------------------------------------------------------------\u001b[0m",
            "\u001b[0;31mNameError\u001b[0m                                 Traceback (most recent call last)",
            "\u001b[0;32m<ipython-input-9-87e5d66ca51e>\u001b[0m in \u001b[0;36m<module>\u001b[0;34m()\u001b[0m\n\u001b[1;32m      1\u001b[0m \u001b[0;31m#word counting program\u001b[0m\u001b[0;34m\u001b[0m\u001b[0;34m\u001b[0m\u001b[0;34m\u001b[0m\u001b[0m\n\u001b[0;32m----> 2\u001b[0;31m \u001b[0mname\u001b[0m \u001b[0;34m=\u001b[0m \u001b[0mraw_input\u001b[0m\u001b[0;34m(\u001b[0m\u001b[0;34m'Enter file:'\u001b[0m\u001b[0;34m)\u001b[0m\u001b[0;34m\u001b[0m\u001b[0;34m\u001b[0m\u001b[0m\n\u001b[0m\u001b[1;32m      3\u001b[0m \u001b[0mhandle\u001b[0m \u001b[0;34m=\u001b[0m \u001b[0mopen\u001b[0m\u001b[0;34m(\u001b[0m\u001b[0mname\u001b[0m\u001b[0;34m)\u001b[0m\u001b[0;34m\u001b[0m\u001b[0;34m\u001b[0m\u001b[0m\n\u001b[1;32m      4\u001b[0m \u001b[0;34m\u001b[0m\u001b[0m\n\u001b[1;32m      5\u001b[0m \u001b[0mcount\u001b[0m \u001b[0;34m=\u001b[0m \u001b[0mdict\u001b[0m\u001b[0;34m(\u001b[0m\u001b[0;34m)\u001b[0m\u001b[0;34m\u001b[0m\u001b[0;34m\u001b[0m\u001b[0m\n",
            "\u001b[0;31mNameError\u001b[0m: name 'raw_input' is not defined"
          ]
        }
      ]
    },
    {
      "cell_type": "markdown",
      "source": [],
      "metadata": {
        "id": "f4wd-FzA7aJN"
      }
    },
    {
      "cell_type": "markdown",
      "source": [
        "We start at basic vocabulary, lines and then start putting it together. Just realize  you will be confused for a long time and then, eventually, will make sense.\n",
        "\n"
      ],
      "metadata": {
        "id": "nfNc_BvY7cvK"
      }
    },
    {
      "cell_type": "code",
      "source": [
        "#program that counts the words in a file in Python\n",
        "45:29\n",
        "https://www.youtube.com/watch?v=n9TPPERuT74&t=2642s&ab_channel=Start-TechAcademy"
      ],
      "metadata": {
        "id": "GVIQJVyB7tMU"
      },
      "execution_count": null,
      "outputs": []
    },
    {
      "cell_type": "code",
      "source": [
        "#conversion from European to US floor\n",
        "inp= input('Europe floor?')\n",
        "usf= int(inp) + 1\n",
        "print('US floor', usf)"
      ],
      "metadata": {
        "colab": {
          "base_uri": "https://localhost:8080/",
          "height": 581
        },
        "id": "kQpxOYuws8mt",
        "outputId": "893df51c-ebda-43c5-a3bd-14f454976e00"
      },
      "execution_count": null,
      "outputs": [
        {
          "output_type": "error",
          "ename": "KeyboardInterrupt",
          "evalue": "ignored",
          "traceback": [
            "\u001b[0;31m---------------------------------------------------------------------------\u001b[0m",
            "\u001b[0;31mKeyboardInterrupt\u001b[0m                         Traceback (most recent call last)",
            "\u001b[0;32m/usr/local/lib/python3.7/dist-packages/ipykernel/kernelbase.py\u001b[0m in \u001b[0;36m_input_request\u001b[0;34m(self, prompt, ident, parent, password)\u001b[0m\n\u001b[1;32m    728\u001b[0m             \u001b[0;32mtry\u001b[0m\u001b[0;34m:\u001b[0m\u001b[0;34m\u001b[0m\u001b[0;34m\u001b[0m\u001b[0m\n\u001b[0;32m--> 729\u001b[0;31m                 \u001b[0mident\u001b[0m\u001b[0;34m,\u001b[0m \u001b[0mreply\u001b[0m \u001b[0;34m=\u001b[0m \u001b[0mself\u001b[0m\u001b[0;34m.\u001b[0m\u001b[0msession\u001b[0m\u001b[0;34m.\u001b[0m\u001b[0mrecv\u001b[0m\u001b[0;34m(\u001b[0m\u001b[0mself\u001b[0m\u001b[0;34m.\u001b[0m\u001b[0mstdin_socket\u001b[0m\u001b[0;34m,\u001b[0m \u001b[0;36m0\u001b[0m\u001b[0;34m)\u001b[0m\u001b[0;34m\u001b[0m\u001b[0;34m\u001b[0m\u001b[0m\n\u001b[0m\u001b[1;32m    730\u001b[0m             \u001b[0;32mexcept\u001b[0m \u001b[0mException\u001b[0m\u001b[0;34m:\u001b[0m\u001b[0;34m\u001b[0m\u001b[0;34m\u001b[0m\u001b[0m\n",
            "\u001b[0;32m/usr/local/lib/python3.7/dist-packages/jupyter_client/session.py\u001b[0m in \u001b[0;36mrecv\u001b[0;34m(self, socket, mode, content, copy)\u001b[0m\n\u001b[1;32m    802\u001b[0m         \u001b[0;32mtry\u001b[0m\u001b[0;34m:\u001b[0m\u001b[0;34m\u001b[0m\u001b[0;34m\u001b[0m\u001b[0m\n\u001b[0;32m--> 803\u001b[0;31m             \u001b[0mmsg_list\u001b[0m \u001b[0;34m=\u001b[0m \u001b[0msocket\u001b[0m\u001b[0;34m.\u001b[0m\u001b[0mrecv_multipart\u001b[0m\u001b[0;34m(\u001b[0m\u001b[0mmode\u001b[0m\u001b[0;34m,\u001b[0m \u001b[0mcopy\u001b[0m\u001b[0;34m=\u001b[0m\u001b[0mcopy\u001b[0m\u001b[0;34m)\u001b[0m\u001b[0;34m\u001b[0m\u001b[0;34m\u001b[0m\u001b[0m\n\u001b[0m\u001b[1;32m    804\u001b[0m         \u001b[0;32mexcept\u001b[0m \u001b[0mzmq\u001b[0m\u001b[0;34m.\u001b[0m\u001b[0mZMQError\u001b[0m \u001b[0;32mas\u001b[0m \u001b[0me\u001b[0m\u001b[0;34m:\u001b[0m\u001b[0;34m\u001b[0m\u001b[0;34m\u001b[0m\u001b[0m\n",
            "\u001b[0;32m/usr/local/lib/python3.7/dist-packages/zmq/sugar/socket.py\u001b[0m in \u001b[0;36mrecv_multipart\u001b[0;34m(self, flags, copy, track)\u001b[0m\n\u001b[1;32m    723\u001b[0m         \"\"\"\n\u001b[0;32m--> 724\u001b[0;31m         \u001b[0mparts\u001b[0m \u001b[0;34m=\u001b[0m \u001b[0;34m[\u001b[0m\u001b[0mself\u001b[0m\u001b[0;34m.\u001b[0m\u001b[0mrecv\u001b[0m\u001b[0;34m(\u001b[0m\u001b[0mflags\u001b[0m\u001b[0;34m,\u001b[0m \u001b[0mcopy\u001b[0m\u001b[0;34m=\u001b[0m\u001b[0mcopy\u001b[0m\u001b[0;34m,\u001b[0m \u001b[0mtrack\u001b[0m\u001b[0;34m=\u001b[0m\u001b[0mtrack\u001b[0m\u001b[0;34m)\u001b[0m\u001b[0;34m]\u001b[0m\u001b[0;34m\u001b[0m\u001b[0;34m\u001b[0m\u001b[0m\n\u001b[0m\u001b[1;32m    725\u001b[0m         \u001b[0;31m# have first part already, only loop while more to receive\u001b[0m\u001b[0;34m\u001b[0m\u001b[0;34m\u001b[0m\u001b[0;34m\u001b[0m\u001b[0m\n",
            "\u001b[0;32mzmq/backend/cython/socket.pyx\u001b[0m in \u001b[0;36mzmq.backend.cython.socket.Socket.recv\u001b[0;34m()\u001b[0m\n",
            "\u001b[0;32mzmq/backend/cython/socket.pyx\u001b[0m in \u001b[0;36mzmq.backend.cython.socket.Socket.recv\u001b[0;34m()\u001b[0m\n",
            "\u001b[0;32mzmq/backend/cython/socket.pyx\u001b[0m in \u001b[0;36mzmq.backend.cython.socket._recv_copy\u001b[0;34m()\u001b[0m\n",
            "\u001b[0;32m/usr/local/lib/python3.7/dist-packages/zmq/backend/cython/checkrc.pxd\u001b[0m in \u001b[0;36mzmq.backend.cython.checkrc._check_rc\u001b[0;34m()\u001b[0m\n",
            "\u001b[0;31mKeyboardInterrupt\u001b[0m: ",
            "\nDuring handling of the above exception, another exception occurred:\n",
            "\u001b[0;31mKeyboardInterrupt\u001b[0m                         Traceback (most recent call last)",
            "\u001b[0;32m<ipython-input-3-8785d3cd984f>\u001b[0m in \u001b[0;36m<module>\u001b[0;34m()\u001b[0m\n\u001b[1;32m      1\u001b[0m \u001b[0;31m#conversion from European to US floor\u001b[0m\u001b[0;34m\u001b[0m\u001b[0;34m\u001b[0m\u001b[0;34m\u001b[0m\u001b[0m\n\u001b[0;32m----> 2\u001b[0;31m \u001b[0minp\u001b[0m\u001b[0;34m=\u001b[0m \u001b[0minput\u001b[0m\u001b[0;34m(\u001b[0m\u001b[0;34m'Europe floor?'\u001b[0m\u001b[0;34m)\u001b[0m\u001b[0;34m\u001b[0m\u001b[0;34m\u001b[0m\u001b[0m\n\u001b[0m\u001b[1;32m      3\u001b[0m \u001b[0musf\u001b[0m\u001b[0;34m=\u001b[0m \u001b[0mint\u001b[0m\u001b[0;34m(\u001b[0m\u001b[0minp\u001b[0m\u001b[0;34m)\u001b[0m \u001b[0;34m+\u001b[0m \u001b[0;36m1\u001b[0m\u001b[0;34m\u001b[0m\u001b[0;34m\u001b[0m\u001b[0m\n\u001b[1;32m      4\u001b[0m \u001b[0mprint\u001b[0m\u001b[0;34m(\u001b[0m\u001b[0;34m'US floor'\u001b[0m\u001b[0;34m,\u001b[0m \u001b[0musf\u001b[0m\u001b[0;34m)\u001b[0m\u001b[0;34m\u001b[0m\u001b[0;34m\u001b[0m\u001b[0m\n",
            "\u001b[0;32m/usr/local/lib/python3.7/dist-packages/ipykernel/kernelbase.py\u001b[0m in \u001b[0;36mraw_input\u001b[0;34m(self, prompt)\u001b[0m\n\u001b[1;32m    702\u001b[0m             \u001b[0mself\u001b[0m\u001b[0;34m.\u001b[0m\u001b[0m_parent_ident\u001b[0m\u001b[0;34m,\u001b[0m\u001b[0;34m\u001b[0m\u001b[0;34m\u001b[0m\u001b[0m\n\u001b[1;32m    703\u001b[0m             \u001b[0mself\u001b[0m\u001b[0;34m.\u001b[0m\u001b[0m_parent_header\u001b[0m\u001b[0;34m,\u001b[0m\u001b[0;34m\u001b[0m\u001b[0;34m\u001b[0m\u001b[0m\n\u001b[0;32m--> 704\u001b[0;31m             \u001b[0mpassword\u001b[0m\u001b[0;34m=\u001b[0m\u001b[0;32mFalse\u001b[0m\u001b[0;34m,\u001b[0m\u001b[0;34m\u001b[0m\u001b[0;34m\u001b[0m\u001b[0m\n\u001b[0m\u001b[1;32m    705\u001b[0m         )\n\u001b[1;32m    706\u001b[0m \u001b[0;34m\u001b[0m\u001b[0m\n",
            "\u001b[0;32m/usr/local/lib/python3.7/dist-packages/ipykernel/kernelbase.py\u001b[0m in \u001b[0;36m_input_request\u001b[0;34m(self, prompt, ident, parent, password)\u001b[0m\n\u001b[1;32m    732\u001b[0m             \u001b[0;32mexcept\u001b[0m \u001b[0mKeyboardInterrupt\u001b[0m\u001b[0;34m:\u001b[0m\u001b[0;34m\u001b[0m\u001b[0;34m\u001b[0m\u001b[0m\n\u001b[1;32m    733\u001b[0m                 \u001b[0;31m# re-raise KeyboardInterrupt, to truncate traceback\u001b[0m\u001b[0;34m\u001b[0m\u001b[0;34m\u001b[0m\u001b[0;34m\u001b[0m\u001b[0m\n\u001b[0;32m--> 734\u001b[0;31m                 \u001b[0;32mraise\u001b[0m \u001b[0mKeyboardInterrupt\u001b[0m\u001b[0;34m\u001b[0m\u001b[0;34m\u001b[0m\u001b[0m\n\u001b[0m\u001b[1;32m    735\u001b[0m             \u001b[0;32melse\u001b[0m\u001b[0;34m:\u001b[0m\u001b[0;34m\u001b[0m\u001b[0;34m\u001b[0m\u001b[0m\n\u001b[1;32m    736\u001b[0m                 \u001b[0;32mbreak\u001b[0m\u001b[0;34m\u001b[0m\u001b[0;34m\u001b[0m\u001b[0m\n",
            "\u001b[0;31mKeyboardInterrupt\u001b[0m: "
          ]
        }
      ]
    },
    {
      "cell_type": "code",
      "source": [
        "#language greeting program\n",
        "def greet(lang):\n",
        "  if lang == 'es':\n",
        "      print('Hola')\n",
        "  elif lang == 'fr':\n",
        "    print('Bonjour')\n",
        "  else:\n",
        "    print('Hello')"
      ],
      "metadata": {
        "id": "KZ_BN61btPEx"
      },
      "execution_count": null,
      "outputs": []
    },
    {
      "cell_type": "markdown",
      "source": [],
      "metadata": {
        "id": "PhNL7-9ut_Er"
      }
    },
    {
      "cell_type": "code",
      "source": [
        "#Loop program\n",
        "n = 0\n",
        "while n > 0 :\n",
        "  print('Lather')\n",
        "  print('Rinse')\n",
        "print('Dry off!')"
      ],
      "metadata": {
        "colab": {
          "base_uri": "https://localhost:8080/"
        },
        "id": "qQFwal7Qt73A",
        "outputId": "97bb377e-4681-496c-bb4d-86aadb4491f7"
      },
      "execution_count": null,
      "outputs": [
        {
          "output_type": "stream",
          "name": "stdout",
          "text": [
            "Dry off!\n"
          ]
        }
      ]
    },
    {
      "cell_type": "code",
      "source": [
        "count = 0\n",
        "sum = 0\n",
        "print('Before', count, sum)\n",
        "for value in [9, 41, 12, 3. 74, 15] :\n",
        "    count = count + 1\n",
        "    sum = sum + value\n",
        "    print(count, sum, value)\n",
        "print('After')"
      ],
      "metadata": {
        "id": "95IFRhQ5ud2e"
      },
      "execution_count": null,
      "outputs": []
    },
    {
      "cell_type": "code",
      "source": [
        "smallest_so_far = -1\n",
        "print('Before', smallest_so_far)\n",
        "for the_num in [9, 41, 12, 3, 74, 15] :\n",
        "  if the_num < smallest_so_far :\n",
        "    smallest_so_far = the_num\n",
        "  print(smallest_so_far, the_num)\n",
        "\n",
        "print('After', smallest_so_far)"
      ],
      "metadata": {
        "id": "_7x_8Og9ViaK"
      },
      "execution_count": null,
      "outputs": []
    },
    {
      "cell_type": "code",
      "source": [
        "if name in counts:\n",
        "    x = counts[name]\n",
        "else :\n",
        "    x = 0\n",
        "\n",
        "x = counts.get(name, 0)"
      ],
      "metadata": {
        "id": "-PBIafYoWMl4"
      },
      "execution_count": null,
      "outputs": []
    },
    {
      "cell_type": "code",
      "source": [
        "#note, casing matters when assigning a variable name\n",
        "x = 6\n",
        "print(x)\n",
        "y = x * 7\n"
      ],
      "metadata": {
        "colab": {
          "base_uri": "https://localhost:8080/"
        },
        "id": "GW0X4aejUk6D",
        "outputId": "18901fc8-cf09-426f-94aa-f0ea290b6ac4"
      },
      "execution_count": null,
      "outputs": [
        {
          "output_type": "stream",
          "name": "stdout",
          "text": [
            "6\n"
          ]
        }
      ]
    },
    {
      "cell_type": "code",
      "source": [
        "#>>> == whats next\n"
      ],
      "metadata": {
        "id": "BhelvvprwCR7"
      },
      "execution_count": null,
      "outputs": []
    },
    {
      "cell_type": "code",
      "source": [
        "# note: 44:14\n",
        "x= 1\n",
        "print(x)\n",
        "x = x + 1\n",
        "print(x)\n"
      ],
      "metadata": {
        "colab": {
          "base_uri": "https://localhost:8080/"
        },
        "id": "xJoQmizswHTh",
        "outputId": "1f2a7b07-37ca-4bf3-f2df-d217f93b444c"
      },
      "execution_count": null,
      "outputs": [
        {
          "output_type": "stream",
          "name": "stdout",
          "text": [
            "1\n",
            "2\n"
          ]
        }
      ]
    },
    {
      "cell_type": "code",
      "source": [
        "#Whenever done w/ command line, type the following to quit the command line interface\n",
        "#src == https://www.w3schools.com/python/python_getstarted.asp\n",
        "exit()"
      ],
      "metadata": {
        "id": "MyZDZ-jsdavY"
      },
      "execution_count": null,
      "outputs": []
    },
    {
      "cell_type": "markdown",
      "source": [
        "What do  we say\n",
        "\n",
        "Almost like writing a story. \n",
        "\n",
        "ELEMENTS OF PYTHON\n",
        "\n",
        "Vocab/words = variable and reserved words (Chapter 2)\n",
        "Sentence structure- valid syntax patterns (Chapters 3-5)\n",
        "Story Structure - constructing a program for a purpose\n"
      ],
      "metadata": {
        "id": "jCfN4J-ZxqGs"
      }
    },
    {
      "cell_type": "markdown",
      "source": [
        "Reserved Words\n",
        "\n",
        "- you cant use these as variable names or identifiers\n",
        "\n",
        "e.g. False, None, True, as, assert, break\n",
        "\n",
        "Q - does capitalization matter here?\n",
        "A - yes! it is **case sensitive**\n",
        "\n"
      ],
      "metadata": {
        "id": "4vK0CeNGxteV"
      }
    },
    {
      "cell_type": "markdown",
      "source": [
        "Sentence or Lines\n",
        "\n",
        "These are not mathematical statements, but directives\n",
        "\n",
        "x = 2\n",
        "x = x + 2\n",
        "print(x)\n",
        "\n",
        "x == a variable\n",
        "\n",
        "print( ) == reserved word"
      ],
      "metadata": {
        "id": "RNmsHmAGzt6i"
      }
    },
    {
      "cell_type": "markdown",
      "source": [
        "We program in paragraphs\n",
        "**Interactive python** gets tirig after 3-4 lines, so as a program gets larger, use a **script**. We then tell python to read from the file and then run the script as it is entered in that file, they tend to end in \".py\".\n",
        "\n",
        "\n",
        "\n",
        "\n"
      ],
      "metadata": {
        "id": "Hi-4iFx-0NHG"
      }
    },
    {
      "cell_type": "markdown",
      "source": [
        "Interactive vs. Script\n",
        "\n",
        "Interactice - type directly to P and it responds 1 line at a time\n",
        "\n",
        "Script - enter a sequence of statements (lines) into a file using a text editor and tell P to exclude statments in a file <== ? What ?"
      ],
      "metadata": {
        "id": "jwlfhHWp1Eet"
      }
    },
    {
      "cell_type": "markdown",
      "source": [
        "Program Steps or Program flow\n",
        "\n",
        "\n",
        "Program = a sequence of steps to be done in order\n",
        "Conditional = a type of programming step that may be skipped\n",
        "\n",
        "As programmers, we set up \"paths\" for the program to follow.\n",
        "\n",
        "\n"
      ],
      "metadata": {
        "id": "UkIs5Zq41dMg"
      }
    },
    {
      "cell_type": "code",
      "source": [
        "x = 2\n",
        "print (x)\n",
        "x = x + 2\n",
        "print(x)\n"
      ],
      "metadata": {
        "colab": {
          "base_uri": "https://localhost:8080/"
        },
        "id": "TZDtwZJ03Axu",
        "outputId": "449ffb30-a581-4e70-d58c-fff5461ceb78"
      },
      "execution_count": null,
      "outputs": [
        {
          "output_type": "stream",
          "name": "stdout",
          "text": [
            "2\n",
            "4\n"
          ]
        }
      ]
    },
    {
      "cell_type": "markdown",
      "source": [
        "Conditional Steps\n",
        "\n",
        "This is where the brain gets intelligent, you can begin encoding ur brain into the computer\n",
        "\n"
      ],
      "metadata": {
        "id": "BCSQRj9e3SKW"
      }
    },
    {
      "cell_type": "code",
      "source": [
        "#note: \"Print\" is a **typographical error** because it is capitalized here as a keyword\n",
        "x = 5\n",
        "if x < 10:\n",
        "  print('Smaller')\n",
        "if x > 20:\n",
        "  print('Bigger')\n",
        "\n",
        "print('Finis')"
      ],
      "metadata": {
        "colab": {
          "base_uri": "https://localhost:8080/"
        },
        "id": "inzJ2zFZ3_dR",
        "outputId": "ad45175e-6c34-4858-c06b-ab3f111307ba"
      },
      "execution_count": null,
      "outputs": [
        {
          "output_type": "stream",
          "name": "stdout",
          "text": [
            "Smaller\n",
            "Finis\n"
          ]
        }
      ]
    },
    {
      "cell_type": "markdown",
      "source": [],
      "metadata": {
        "id": "dLU2-6sL52vv"
      }
    },
    {
      "cell_type": "markdown",
      "source": [
        "In this program, we have an **exit condition** to escape the loop\n",
        "\n"
      ],
      "metadata": {
        "id": "KneLpQTS4zpl"
      }
    },
    {
      "cell_type": "code",
      "source": [
        "# The program hits the \"off ramp\" when we hit 0 and the condition to exit the loop is met\n",
        "n = 5\n",
        "while n > 0:\n",
        "  print(n)\n",
        "  n = n - 1\n",
        "print('Blastoff')"
      ],
      "metadata": {
        "colab": {
          "base_uri": "https://localhost:8080/"
        },
        "id": "tv3qsgoK6fZL",
        "outputId": "477f9a60-619f-4038-c8e7-a80cde06a65c"
      },
      "execution_count": null,
      "outputs": [
        {
          "output_type": "stream",
          "name": "stdout",
          "text": [
            "5\n",
            "4\n",
            "3\n",
            "2\n",
            "1\n",
            "Blastoff\n"
          ]
        }
      ]
    },
    {
      "cell_type": "code",
      "source": [
        "#Problem - \n",
        "n = 16\n",
        "while n > 8:\n",
        "  print(n)\n",
        "  n = n - 1\n",
        "print('Blastoff')"
      ],
      "metadata": {
        "colab": {
          "base_uri": "https://localhost:8080/"
        },
        "id": "uV-6xaM3FuRQ",
        "outputId": "21513885-ec51-45e6-e8e0-b27665e791ec"
      },
      "execution_count": null,
      "outputs": [
        {
          "output_type": "stream",
          "name": "stdout",
          "text": [
            "16\n",
            "15\n",
            "14\n",
            "13\n",
            "12\n",
            "11\n",
            "10\n",
            "9\n",
            "Blastoff\n"
          ]
        }
      ]
    },
    {
      "cell_type": "markdown",
      "source": [
        "On video: 55:46\n",
        "https://www.youtube.com/watch?v=8DvywoWv6fI\n",
        "\n",
        "Next time:\n",
        "1) Review all and make flashcards and re-write programs from a description\n",
        "2) Have new material, read and summarixe in those pomodoro blocks w/ 5 min review before break\n",
        "3) have a wrap-up before the next session\n"
      ],
      "metadata": {
        "id": "ofQprNU67EHd"
      }
    },
    {
      "cell_type": "code",
      "source": [
        "nam = input('Who are you? ')\n",
        "print('Welcome', nam)"
      ],
      "metadata": {
        "id": "QhT9_Yp6e3gi"
      },
      "execution_count": null,
      "outputs": []
    },
    {
      "cell_type": "code",
      "source": [
        "#Get name of file and open it\n",
        "name = input('Enter file:')\n",
        "handle = open(nme, 'r')\n",
        "\n",
        "#Count word frequency\n",
        "counts = dict()\n",
        "for line in handle:\n",
        "  words = line.split()\n",
        "  for word in words:\n",
        "    counts[word] = counts.get(word,0) + 1\n",
        "\n",
        "#Find the most common word\n",
        "bigcount = None\n",
        "bigword = None\n"
      ],
      "metadata": {
        "id": "5DPOeZgFfHDq"
      },
      "execution_count": null,
      "outputs": []
    },
    {
      "cell_type": "code",
      "source": [
        "while True:\n",
        "  acct = input('Enter a Twitter account, or quit: ')\n",
        "  if (acct == 'quit'): break\n",
        "  if (len(acct) < 1\n",
        "      cur.execute('SELECT id, name FROM People WHERE retreived = 0 LIMIT 1')\n",
        "      "
      ],
      "metadata": {
        "id": "OjuXlBPZgN47"
      },
      "execution_count": null,
      "outputs": []
    },
    {
      "cell_type": "code",
      "source": [
        "while True:\n",
        "  data = mysock.recv(512)\n",
        "  if (leb(data) < 1 ) :\n",
        "    break\n",
        "  mystring = data.decode()\n",
        "  print(mystring)"
      ],
      "metadata": {
        "colab": {
          "base_uri": "https://localhost:8080/",
          "height": 236
        },
        "id": "f8MYeImN6N5N",
        "outputId": "aa798983-2c25-4f09-9fa5-859408de4133"
      },
      "execution_count": 1,
      "outputs": [
        {
          "output_type": "error",
          "ename": "NameError",
          "evalue": "ignored",
          "traceback": [
            "\u001b[0;31m---------------------------------------------------------------------------\u001b[0m",
            "\u001b[0;31mNameError\u001b[0m                                 Traceback (most recent call last)",
            "\u001b[0;32m<ipython-input-1-d1a0da95e2ac>\u001b[0m in \u001b[0;36m<cell line: 2>\u001b[0;34m()\u001b[0m\n\u001b[1;32m      1\u001b[0m \u001b[0;32mwhile\u001b[0m \u001b[0;32mTrue\u001b[0m\u001b[0;34m:\u001b[0m\u001b[0;34m\u001b[0m\u001b[0;34m\u001b[0m\u001b[0m\n\u001b[0;32m----> 2\u001b[0;31m   \u001b[0mdata\u001b[0m \u001b[0;34m=\u001b[0m \u001b[0mmysock\u001b[0m\u001b[0;34m.\u001b[0m\u001b[0mrecv\u001b[0m\u001b[0;34m(\u001b[0m\u001b[0;36m512\u001b[0m\u001b[0;34m)\u001b[0m\u001b[0;34m\u001b[0m\u001b[0;34m\u001b[0m\u001b[0m\n\u001b[0m\u001b[1;32m      3\u001b[0m   \u001b[0;32mif\u001b[0m \u001b[0;34m(\u001b[0m\u001b[0mleb\u001b[0m\u001b[0;34m(\u001b[0m\u001b[0mdata\u001b[0m\u001b[0;34m)\u001b[0m \u001b[0;34m<\u001b[0m \u001b[0;36m1\u001b[0m \u001b[0;34m)\u001b[0m \u001b[0;34m:\u001b[0m\u001b[0;34m\u001b[0m\u001b[0;34m\u001b[0m\u001b[0m\n\u001b[1;32m      4\u001b[0m     \u001b[0;32mbreak\u001b[0m\u001b[0;34m\u001b[0m\u001b[0;34m\u001b[0m\u001b[0m\n\u001b[1;32m      5\u001b[0m   \u001b[0mmystring\u001b[0m \u001b[0;34m=\u001b[0m \u001b[0mdata\u001b[0m\u001b[0;34m.\u001b[0m\u001b[0mdecode\u001b[0m\u001b[0;34m(\u001b[0m\u001b[0;34m)\u001b[0m\u001b[0;34m\u001b[0m\u001b[0;34m\u001b[0m\u001b[0m\n",
            "\u001b[0;31mNameError\u001b[0m: name 'mysock' is not defined"
          ]
        }
      ]
    },
    {
      "cell_type": "markdown",
      "source": [
        "Interpret == decode\n",
        "unicode = "
      ],
      "metadata": {
        "id": "0O95IQUO6V5e"
      }
    },
    {
      "cell_type": "code",
      "source": [
        "#An HTTP request in Python\n",
        "\n",
        "import socket\n",
        "\n",
        "mysock = socket.socket(socket.AF_INET), socket.SOCK_STREAM)\n",
        "mysock.connect(('data.pr4e.org', 80))\n",
        "cmd = 'GET http://data.pr4e.org/romeo.txt HTTP/1.0\\n\\'.encode()\n",
        "\n",
        "while True:\n",
        "  data 7= mysock.recv(512)\n",
        "  if (len(data) < 1 ):\n",
        "      break\n",
        "  print(data.decode())\n",
        "  mysock.close()"
      ],
      "metadata": {
        "colab": {
          "base_uri": "https://localhost:8080/",
          "height": 131
        },
        "id": "5K5bib5L67r_",
        "outputId": "4bbc5ac1-e2e9-4b00-8ef9-4bca09b60250"
      },
      "execution_count": 2,
      "outputs": [
        {
          "output_type": "error",
          "ename": "SyntaxError",
          "evalue": "ignored",
          "traceback": [
            "\u001b[0;36m  File \u001b[0;32m\"<ipython-input-2-7d15d24bce59>\"\u001b[0;36m, line \u001b[0;32m5\u001b[0m\n\u001b[0;31m    mysock = socket.socket(socket.AF_INET), socket.SOCK_STREAM)\u001b[0m\n\u001b[0m                                                              ^\u001b[0m\n\u001b[0;31mSyntaxError\u001b[0m\u001b[0;31m:\u001b[0m unmatched ')'\n"
          ]
        }
      ]
    }
  ]
}